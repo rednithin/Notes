{
 "cells": [
  {
   "cell_type": "markdown",
   "metadata": {
    "toc": true
   },
   "source": [
    "<h1>Table of Contents<span class=\"tocSkip\"></span></h1>\n",
    "<div class=\"toc\"><ul class=\"toc-item\"><li><span><a href=\"#Variables\" data-toc-modified-id=\"Variables-1\"><span class=\"toc-item-num\">1&nbsp;&nbsp;</span>Variables</a></span><ul class=\"toc-item\"><li><span><a href=\"#Printing\" data-toc-modified-id=\"Printing-1.1\"><span class=\"toc-item-num\">1.1&nbsp;&nbsp;</span>Printing</a></span></li><li><span><a href=\"#Cannot-modify-Variable\" data-toc-modified-id=\"Cannot-modify-Variable-1.2\"><span class=\"toc-item-num\">1.2&nbsp;&nbsp;</span>Cannot modify Variable</a></span></li><li><span><a href=\"#Mutable-keyword\" data-toc-modified-id=\"Mutable-keyword-1.3\"><span class=\"toc-item-num\">1.3&nbsp;&nbsp;</span>Mutable keyword</a></span></li><li><span><a href=\"#Constant-keyword\" data-toc-modified-id=\"Constant-keyword-1.4\"><span class=\"toc-item-num\">1.4&nbsp;&nbsp;</span>Constant keyword</a></span></li><li><span><a href=\"#Shadowing\" data-toc-modified-id=\"Shadowing-1.5\"><span class=\"toc-item-num\">1.5&nbsp;&nbsp;</span>Shadowing</a></span></li></ul></li><li><span><a href=\"#Data-Types\" data-toc-modified-id=\"Data-Types-2\"><span class=\"toc-item-num\">2&nbsp;&nbsp;</span>Data Types</a></span><ul class=\"toc-item\"><li><span><a href=\"#Scalar-Types\" data-toc-modified-id=\"Scalar-Types-2.1\"><span class=\"toc-item-num\">2.1&nbsp;&nbsp;</span>Scalar Types</a></span></li><li><span><a href=\"#Compound-Types\" data-toc-modified-id=\"Compound-Types-2.2\"><span class=\"toc-item-num\">2.2&nbsp;&nbsp;</span>Compound Types</a></span></li><li><span><a href=\"#Data-Types-Operations\" data-toc-modified-id=\"Data-Types-Operations-2.3\"><span class=\"toc-item-num\">2.3&nbsp;&nbsp;</span>Data Types Operations</a></span></li></ul></li><li><span><a href=\"#Functions\" data-toc-modified-id=\"Functions-3\"><span class=\"toc-item-num\">3&nbsp;&nbsp;</span>Functions</a></span></li><li><span><a href=\"#Comments\" data-toc-modified-id=\"Comments-4\"><span class=\"toc-item-num\">4&nbsp;&nbsp;</span>Comments</a></span></li><li><span><a href=\"#Control-Flow\" data-toc-modified-id=\"Control-Flow-5\"><span class=\"toc-item-num\">5&nbsp;&nbsp;</span>Control Flow</a></span></li><li><span><a href=\"#Ownership\" data-toc-modified-id=\"Ownership-6\"><span class=\"toc-item-num\">6&nbsp;&nbsp;</span>Ownership</a></span></li></ul></div>"
   ]
  },
  {
   "cell_type": "markdown",
   "metadata": {},
   "source": [
    "# Variables"
   ]
  },
  {
   "cell_type": "markdown",
   "metadata": {},
   "source": [
    "## Printing"
   ]
  },
  {
   "cell_type": "code",
   "execution_count": 2,
   "metadata": {},
   "outputs": [
    {
     "name": "stdout",
     "output_type": "stream",
     "text": [
      "Nithin\n"
     ]
    }
   ],
   "source": [
    "let mut a = String::from(\"Nithin\");\n",
    "println!(\"{}\", a);"
   ]
  },
  {
   "cell_type": "markdown",
   "metadata": {},
   "source": [
    "## Cannot modify Variable"
   ]
  },
  {
   "cell_type": "code",
   "execution_count": 3,
   "metadata": {},
   "outputs": [
    {
     "ename": "Error",
     "evalue": "cannot assign twice to immutable variable `x`",
     "output_type": "error",
     "traceback": [
      "let x = 5;",
      "\u001b[91m    ^\u001b[0m \u001b[94mfirst assignment to `x`\u001b[0m",
      "x = 6;",
      "\u001b[91m^^^^^\u001b[0m \u001b[94mcannot assign twice to immutable variable\u001b[0m",
      "cannot assign twice to immutable variable `x`"
     ]
    }
   ],
   "source": [
    "// Cannot modify x.\n",
    "let x = 5;\n",
    "println!(\"Value(x) : {}\", x);\n",
    "x = 6;\n",
    "println!(\"Value(x) : {}\", x);"
   ]
  },
  {
   "cell_type": "markdown",
   "metadata": {},
   "source": [
    "## Mutable keyword"
   ]
  },
  {
   "cell_type": "code",
   "execution_count": 4,
   "metadata": {},
   "outputs": [
    {
     "name": "stdout",
     "output_type": "stream",
     "text": [
      "Value(x) : 5\n",
      "Value(x) : 6\n"
     ]
    }
   ],
   "source": [
    "// Can modify x.\n",
    "let mut x = 5;\n",
    "println!(\"Value(x) : {}\", x);\n",
    "x = 6;\n",
    "println!(\"Value(x) : {}\", x);"
   ]
  },
  {
   "cell_type": "markdown",
   "metadata": {},
   "source": [
    "## Constant keyword\n",
    "Constants are valid for entire time of the program"
   ]
  },
  {
   "cell_type": "code",
   "execution_count": 5,
   "metadata": {},
   "outputs": [
    {
     "ename": "Error",
     "evalue": "expected `:`, found `=`",
     "output_type": "error",
     "traceback": [
      "const A = 5; // Always needs a type",
      "\u001b[91m        ^\u001b[0m \u001b[94mexpected `:`\u001b[0m",
      "expected `:`, found `=`"
     ]
    }
   ],
   "source": [
    "const A = 5; // Always needs a type\n",
    "println!(\"Value(A): {}\", A);"
   ]
  },
  {
   "cell_type": "code",
   "execution_count": 6,
   "metadata": {},
   "outputs": [
    {
     "name": "stdout",
     "output_type": "stream",
     "text": [
      "Value(A): 5\n"
     ]
    }
   ],
   "source": [
    "const A: i32 = 5;\n",
    "println!(\"Value(A): {}\", A);"
   ]
  },
  {
   "cell_type": "markdown",
   "metadata": {},
   "source": [
    "## Shadowing"
   ]
  },
  {
   "cell_type": "code",
   "execution_count": 7,
   "metadata": {},
   "outputs": [
    {
     "name": "stdout",
     "output_type": "stream",
     "text": [
      "Value(a) : 5\n",
      "Value(a) : Hello\n"
     ]
    }
   ],
   "source": [
    "let a = 5;\n",
    "println!(\"Value(a) : {}\", a);\n",
    "let mut a = \"Hello\";\n",
    "println!(\"Value(a) : {}\", a);"
   ]
  },
  {
   "cell_type": "markdown",
   "metadata": {},
   "source": [
    "# Data Types"
   ]
  },
  {
   "cell_type": "markdown",
   "metadata": {},
   "source": [
    "## Scalar Types"
   ]
  },
  {
   "cell_type": "code",
   "execution_count": 8,
   "metadata": {},
   "outputs": [],
   "source": [
    "// Integers Unsigned\n",
    "let a: u8 = 1;\n",
    "let a: u16 = 1;\n",
    "let a: u32 = 1;\n",
    "let a: u64 = 1;\n",
    "let a: u128 = 1;\n",
    "\n",
    "// Integers Signed\n",
    "let a: i8 = 1;\n",
    "let a: i16 = 1;\n",
    "let a: i32 = 1;\n",
    "let a: i64 = 1;\n",
    "let a: i128 = 1;\n",
    "\n",
    "// Integers Floats\n",
    "let a: f32 = 1.0;\n",
    "let a: f64 = 1.0;\n",
    "\n",
    "// Integer Boolean\n",
    "let a: bool = true;\n",
    "\n",
    "// Integer Character\n",
    "let a: char = 'z';"
   ]
  },
  {
   "cell_type": "markdown",
   "metadata": {},
   "source": [
    "## Compound Types"
   ]
  },
  {
   "cell_type": "code",
   "execution_count": 9,
   "metadata": {},
   "outputs": [
    {
     "name": "stdout",
     "output_type": "stream",
     "text": [
      "ith\n",
      "\n",
      "[2, 3, 4]\n",
      "3\n",
      "4\n",
      "5\n",
      "\n",
      "1, 1, Hello\n",
      "1, 1.0, \"Hello\"\n"
     ]
    },
    {
     "data": {
      "text/plain": [
       "()"
      ]
     },
     "execution_count": 9,
     "metadata": {},
     "output_type": "execute_result"
    }
   ],
   "source": [
    "{\n",
    "  // String slice\n",
    "  let a: &str = \"Nithin\";\n",
    "  println!(\"{}\", &a[1..4]); // Display trait\n",
    "\n",
    "  // Array\n",
    "  let a: [u8; 5] = [1, 2, 3, 4, 5];\n",
    "  println!(\"\\n{:?}\", &a[1..4]); // Debug trait\n",
    "  println!(\"{:?}\", a[2]);\n",
    "  println!(\"{:?}\", a[3]);\n",
    "  println!(\"{:?}\", a[4]);\n",
    "\n",
    "  // Tuples\n",
    "  let a: (u8, f32, &str) = (1, 1.0, \"Hello\");\n",
    "  println!(\"\\n{}, {}, {}\", a.0, a.1, a.2); \n",
    "  println!(\"{}, {:?}, {:?}\", a.0, a.1, a.2); // Debug trait\n",
    "}"
   ]
  },
  {
   "cell_type": "markdown",
   "metadata": {},
   "source": [
    "## Data Types Operations"
   ]
  },
  {
   "cell_type": "code",
   "execution_count": 10,
   "metadata": {},
   "outputs": [
    {
     "name": "stdout",
     "output_type": "stream",
     "text": [
      "Value(a): [3, 3, 3, 3, 3]\n",
      "Value(b): [1, 2, 3, 3, 3, 3, 3, 3]\n"
     ]
    }
   ],
   "source": [
    "let a = [3; 5];\n",
    "println!(\"Value(a): {:?}\", a);\n",
    "\n",
    "let b: Vec<i32> = [1, 2, 3].iter().chain(&a).map(|&x| x).collect();\n",
    "println!(\"Value(b): {:?}\", b);"
   ]
  },
  {
   "cell_type": "code",
   "execution_count": 11,
   "metadata": {},
   "outputs": [
    {
     "name": "stdout",
     "output_type": "stream",
     "text": [
      "Value(a): 61864918\n",
      "Value(a): 255\n",
      "Value(a): 63\n"
     ]
    }
   ],
   "source": [
    "let a = 61_864_918;\n",
    "println!(\"Value(a): {}\", a);\n",
    "let a = 0xff;\n",
    "println!(\"Value(a): {}\", a);\n",
    "let a = 0o77;\n",
    "println!(\"Value(a): {}\", a);\n",
    "let a = 0b1111_0000;\n",
    "println!(\"Value(a): {}\", a);\n",
    "let a = b'A';\n",
    "println!(\"Value(a): {}\", a);"
   ]
  },
  {
   "cell_type": "code",
   "execution_count": 12,
   "metadata": {},
   "outputs": [
    {
     "name": "stdout",
     "output_type": "stream",
     "text": [
      "Value(a): 240\n",
      "Value(a): 65\n",
      "Value(guess): 42\n"
     ]
    }
   ],
   "source": [
    "let guess = \"42\".parse().expect(\"Not a number!\");\n",
    "println!(\"Value(guess): {}\", guess);"
   ]
  },
  {
   "cell_type": "code",
   "execution_count": 13,
   "metadata": {},
   "outputs": [],
   "source": [
    "// addition\n",
    "let sum = 5 + 10;\n",
    "\n",
    "// subtraction\n",
    "let difference = 95.5 - 4.3;\n",
    "\n",
    "// multiplication\n",
    "let product = 4 * 30;\n",
    "\n",
    "// division\n",
    "let quotient = 56.7 / 32.2;\n",
    "\n",
    "// remainder\n",
    "let remainder = 43 % 5;"
   ]
  },
  {
   "cell_type": "code",
   "execution_count": 14,
   "metadata": {},
   "outputs": [
    {
     "name": "stdout",
     "output_type": "stream",
     "text": [
      "Hello World\n"
     ]
    },
    {
     "data": {
      "text/plain": [
       "()"
      ]
     },
     "execution_count": 14,
     "metadata": {},
     "output_type": "execute_result"
    }
   ],
   "source": [
    "fn greet() {\n",
    "    println!(\"Hello World\");\n",
    "} // Returns empty tuple\n",
    "greet()"
   ]
  },
  {
   "cell_type": "code",
   "execution_count": 15,
   "metadata": {},
   "outputs": [
    {
     "data": {
      "text/plain": [
       "true"
      ]
     },
     "execution_count": 15,
     "metadata": {},
     "output_type": "execute_result"
    }
   ],
   "source": [
    "Option::is_some(&Some(15))"
   ]
  },
  {
   "cell_type": "code",
   "execution_count": 16,
   "metadata": {},
   "outputs": [
    {
     "name": "stdout",
     "output_type": "stream",
     "text": [
      "[1, 2, 3, 4]\n"
     ]
    },
    {
     "data": {
      "text/plain": [
       "()"
      ]
     },
     "execution_count": 16,
     "metadata": {},
     "output_type": "execute_result"
    }
   ],
   "source": [
    "{\n",
    "  let a: Vec<u32> = vec![1, 2, 3, 4, 5, 3, 2, 1];\n",
    "  println!(\"{:?}\", a.iter().take_while(|&x| *x != 5 as u32).collect::<Vec<&u32>>())\n",
    "}"
   ]
  },
  {
   "cell_type": "code",
   "execution_count": 17,
   "metadata": {},
   "outputs": [
    {
     "name": "stdout",
     "output_type": "stream",
     "text": [
      "[MyStruct { id: 1, id_type: 'd' }, MyStruct { id: 2, id_type: 'd' }, MyStruct { id: 3, id_type: 'd' }]\n"
     ]
    },
    {
     "data": {
      "text/plain": [
       "()"
      ]
     },
     "execution_count": 17,
     "metadata": {},
     "output_type": "execute_result"
    }
   ],
   "source": [
    "{\n",
    "  #[derive(Debug)]\n",
    "  struct MyStruct {\n",
    "    id: u32,\n",
    "    id_type: char\n",
    "  }\n",
    "\n",
    "  {\n",
    "    let a: Vec<MyStruct> = vec![MyStruct {id: 1, id_type: 'a'}, MyStruct {id: 2, id_type: 'a'}, MyStruct {id: 3, id_type: 'a'}];\n",
    "    // let a: Vec<MyStruct> = vec![];\n",
    "\n",
    "    let b: Vec<MyStruct> = vec![MyStruct {id: 1, id_type: 'b'}, MyStruct {id: 2, id_type: 'b'}, MyStruct {id: 3, id_type: 'b'}];\n",
    "    // let b: Vec<MyStruct> = vec![];\n",
    "\n",
    "    let c: Vec<MyStruct> = vec![MyStruct {id: 1, id_type: 'c'}, MyStruct {id: 2, id_type: 'c'}, MyStruct {id: 3, id_type: 'c'}];\n",
    "    // let c: Vec<MyStruct> = vec![];\n",
    "\n",
    "    let d: Vec<MyStruct> = vec![MyStruct {id: 1, id_type: 'd'}, MyStruct {id: 2, id_type: 'd'}, MyStruct {id: 3, id_type: 'd'}];\n",
    "\n",
    "    let answer: Vec<&MyStruct> = a\n",
    "      .iter()\n",
    "      .chain(&b)\n",
    "      .chain(&c)\n",
    "      .take(0) // 0 here\n",
    "      .chain(&d)\n",
    "      .take(3)\n",
    "      .collect();\n",
    "    println!(\"{:?}\", answer);\n",
    "  }\n",
    "}"
   ]
  },
  {
   "cell_type": "code",
   "execution_count": 18,
   "metadata": {},
   "outputs": [
    {
     "name": "stdout",
     "output_type": "stream",
     "text": [
      "B { id: 1 }\n",
      "A { id: 1 }\n"
     ]
    },
    {
     "data": {
      "text/plain": [
       "()"
      ]
     },
     "execution_count": 18,
     "metadata": {},
     "output_type": "execute_result"
    }
   ],
   "source": [
    "{\n",
    "  #[derive(Debug)]\n",
    "  struct A {\n",
    "    id: u32\n",
    "  }\n",
    "\n",
    "  #[derive(Debug)]\n",
    "  struct B {\n",
    "    id: u32\n",
    "  }\n",
    "\n",
    "  impl From<&A> for B {\n",
    "    fn from(a:&A) -> Self {\n",
    "      Self {\n",
    "        id: a.id\n",
    "      }\n",
    "    }\n",
    "  }\n",
    "\n",
    "  let a = A {id: 1};\n",
    "  let b: B = (&a).into();\n",
    "  println!(\"{:?}\", b);\n",
    "  println!(\"{:?}\", a);\n",
    "}"
   ]
  },
  {
   "cell_type": "markdown",
   "metadata": {},
   "source": [
    "# Functions\n",
    "\n",
    "- Rust doesn’t care where you define your functions, only that they’re defined somewhere.\n",
    "- No function overloading in Rust."
   ]
  },
  {
   "cell_type": "code",
   "execution_count": 20,
   "metadata": {},
   "outputs": [
    {
     "name": "stdout",
     "output_type": "stream",
     "text": [
      "Value(x) : 15\n"
     ]
    },
    {
     "data": {
      "text/plain": [
       "()"
      ]
     },
     "execution_count": 20,
     "metadata": {},
     "output_type": "execute_result"
    }
   ],
   "source": [
    "// Simple function\n",
    "{\n",
    "  fn abc(x: i32) {\n",
    "    println!(\"Value(x) : {}\", x)\n",
    "  }\n",
    "  abc(15)\n",
    "}"
   ]
  },
  {
   "cell_type": "code",
   "execution_count": 22,
   "metadata": {},
   "outputs": [
    {
     "data": {
      "text/plain": [
       "5"
      ]
     },
     "execution_count": 22,
     "metadata": {},
     "output_type": "execute_result"
    }
   ],
   "source": [
    "// Blocks can return values\n",
    "let x = {\n",
    "  let y = 5;\n",
    "  y\n",
    "};\n",
    "x"
   ]
  },
  {
   "cell_type": "code",
   "execution_count": 24,
   "metadata": {},
   "outputs": [
    {
     "name": "stdout",
     "output_type": "stream",
     "text": [
      "5 + 1 = 6\n"
     ]
    },
    {
     "data": {
      "text/plain": [
       "()"
      ]
     },
     "execution_count": 24,
     "metadata": {},
     "output_type": "execute_result"
    }
   ],
   "source": [
    "// Functions can return values without explicitly specifying return statement\n",
    "{\n",
    "  fn add_one(x: i32) -> i32 {\n",
    "    x + 1\n",
    "  }\n",
    "  let x = 5;\n",
    "  println!(\"{} + 1 = {}\", x, add_one(x))\n",
    "}"
   ]
  },
  {
   "cell_type": "markdown",
   "metadata": {},
   "source": [
    "# Comments"
   ]
  },
  {
   "cell_type": "code",
   "execution_count": 26,
   "metadata": {},
   "outputs": [],
   "source": [
    "// Single line comment\n",
    "/*\n",
    "Multi\n",
    "Line\n",
    "Comment\n",
    "*/"
   ]
  },
  {
   "cell_type": "markdown",
   "metadata": {},
   "source": [
    "# Control Flow"
   ]
  },
  {
   "cell_type": "code",
   "execution_count": 27,
   "metadata": {},
   "outputs": [
    {
     "name": "stdout",
     "output_type": "stream",
     "text": [
      "condition was true\n"
     ]
    },
    {
     "data": {
      "text/plain": [
       "()"
      ]
     },
     "execution_count": 27,
     "metadata": {},
     "output_type": "execute_result"
    }
   ],
   "source": [
    "{\n",
    "  let number = 3;\n",
    "\n",
    "  if number < 5 {\n",
    "    println!(\"condition was true\");\n",
    "  } else {\n",
    "    println!(\"condition was false\");\n",
    "  }\n",
    "}"
   ]
  },
  {
   "cell_type": "code",
   "execution_count": 28,
   "metadata": {},
   "outputs": [
    {
     "name": "stdout",
     "output_type": "stream",
     "text": [
      "The value of number is: 5\n"
     ]
    },
    {
     "data": {
      "text/plain": [
       "()"
      ]
     },
     "execution_count": 28,
     "metadata": {},
     "output_type": "execute_result"
    }
   ],
   "source": [
    "{\n",
    "  let condition = true;\n",
    "  let number = if condition {\n",
    "    5\n",
    "  } else {\n",
    "    6\n",
    "  };\n",
    "\n",
    "  println!(\"The value of number is: {}\", number);\n",
    "}"
   ]
  },
  {
   "cell_type": "code",
   "execution_count": 30,
   "metadata": {},
   "outputs": [
    {
     "name": "stdout",
     "output_type": "stream",
     "text": [
      "again!\n"
     ]
    },
    {
     "data": {
      "text/plain": [
       "()"
      ]
     },
     "execution_count": 30,
     "metadata": {},
     "output_type": "execute_result"
    }
   ],
   "source": [
    "// Infinite loop\n",
    "loop {\n",
    "  println!(\"again!\");\n",
    "  break;\n",
    "}"
   ]
  },
  {
   "cell_type": "code",
   "execution_count": 31,
   "metadata": {},
   "outputs": [
    {
     "name": "stdout",
     "output_type": "stream",
     "text": [
      "The result is 20\n"
     ]
    },
    {
     "data": {
      "text/plain": [
       "()"
      ]
     },
     "execution_count": 31,
     "metadata": {},
     "output_type": "execute_result"
    }
   ],
   "source": [
    "// Returning values from a loop\n",
    "{\n",
    "  let mut counter = 0;\n",
    "\n",
    "  let result = loop {\n",
    "    counter += 1;\n",
    "\n",
    "    if counter == 10 {\n",
    "      break counter * 2;\n",
    "    }\n",
    "  };\n",
    "\n",
    "  println!(\"The result is {}\", result);\n",
    "}"
   ]
  },
  {
   "cell_type": "code",
   "execution_count": 32,
   "metadata": {},
   "outputs": [
    {
     "name": "stdout",
     "output_type": "stream",
     "text": [
      "3!\n",
      "2!\n",
      "1!\n",
      "LIFTOFF!!!\n"
     ]
    },
    {
     "data": {
      "text/plain": [
       "()"
      ]
     },
     "execution_count": 32,
     "metadata": {},
     "output_type": "execute_result"
    }
   ],
   "source": [
    "// While loop\n",
    "{\n",
    "  let mut number = 3;\n",
    "\n",
    "  while number != 0 {\n",
    "    println!(\"{}!\", number);\n",
    "\n",
    "    number -= 1;\n",
    "  }\n",
    "\n",
    "  println!(\"LIFTOFF!!!\");\n",
    "}"
   ]
  },
  {
   "cell_type": "code",
   "execution_count": 33,
   "metadata": {},
   "outputs": [
    {
     "name": "stdout",
     "output_type": "stream",
     "text": [
      "the value is: 10\n",
      "the value is: 20\n",
      "the value is: 30\n",
      "the value is: 40\n",
      "the value is: 50\n"
     ]
    },
    {
     "data": {
      "text/plain": [
       "()"
      ]
     },
     "execution_count": 33,
     "metadata": {},
     "output_type": "execute_result"
    }
   ],
   "source": [
    "// For loop\n",
    "{\n",
    "  let a = [10, 20, 30, 40, 50];\n",
    "\n",
    "  for element in a.iter() {\n",
    "    println!(\"the value is: {}\", element);\n",
    "  }\n",
    "}"
   ]
  },
  {
   "cell_type": "code",
   "execution_count": 34,
   "metadata": {},
   "outputs": [
    {
     "name": "stdout",
     "output_type": "stream",
     "text": [
      "3!\n",
      "2!\n",
      "1!\n",
      "LIFTOFF!!!\n"
     ]
    },
    {
     "data": {
      "text/plain": [
       "()"
      ]
     },
     "execution_count": 34,
     "metadata": {},
     "output_type": "execute_result"
    }
   ],
   "source": [
    "// For loop iterators\n",
    "{\n",
    "  for number in (1..4).rev() {\n",
    "    println!(\"{}!\", number);\n",
    "  }\n",
    "  println!(\"LIFTOFF!!!\");\n",
    "}"
   ]
  },
  {
   "cell_type": "markdown",
   "metadata": {},
   "source": [
    "# Ownership"
   ]
  },
  {
   "cell_type": "code",
   "execution_count": 36,
   "metadata": {},
   "outputs": [
    {
     "name": "stdout",
     "output_type": "stream",
     "text": [
      "Value(x): 5\n"
     ]
    }
   ],
   "source": [
    "// Copy occurs in copy types\n",
    "let x = 5;\n",
    "let y = x;\n",
    "println!(\"Value(x): {}\", x);"
   ]
  },
  {
   "cell_type": "code",
   "execution_count": 37,
   "metadata": {},
   "outputs": [
    {
     "ename": "Error",
     "evalue": "borrow of moved value: `x`",
     "output_type": "error",
     "traceback": [
      "let y = x;",
      "\u001b[91m        ^\u001b[0m \u001b[94mvalue moved here\u001b[0m",
      "println!(\"Value(x): {}\", x);",
      "\u001b[91m                         ^\u001b[0m \u001b[94mvalue borrowed here after move\u001b[0m",
      "let x = String::from(\"hello\");",
      "\u001b[91m    ^\u001b[0m \u001b[94mmove occurs because `x` has type `std::string::String`, which does not implement the `Copy` trait\u001b[0m",
      "borrow of moved value: `x`"
     ]
    }
   ],
   "source": [
    "// Move occurs in non copy types (those which are allocated on the heap)\n",
    "let x = String::from(\"hello\");\n",
    "let y = x;\n",
    "println!(\"Value(x): {}\", x);"
   ]
  },
  {
   "cell_type": "code",
   "execution_count": null,
   "metadata": {},
   "outputs": [],
   "source": []
  }
 ],
 "metadata": {
  "kernelspec": {
   "display_name": "Rust",
   "language": "rust",
   "name": "rust"
  },
  "language_info": {
   "codemirror_mode": "rust",
   "file_extension": ".rs",
   "mimetype": "text/rust",
   "name": "Rust",
   "pygment_lexer": "rust",
   "version": ""
  },
  "toc": {
   "base_numbering": 1,
   "nav_menu": {
    "height": "255px",
    "width": "232px"
   },
   "number_sections": true,
   "sideBar": true,
   "skip_h1_title": false,
   "title_cell": "Table of Contents",
   "title_sidebar": "Contents",
   "toc_cell": true,
   "toc_position": {
    "height": "calc(100% - 180px)",
    "left": "10px",
    "top": "150px",
    "width": "266px"
   },
   "toc_section_display": true,
   "toc_window_display": true
  }
 },
 "nbformat": 4,
 "nbformat_minor": 4
}
