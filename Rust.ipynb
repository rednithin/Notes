{
 "cells": [
  {
   "cell_type": "markdown",
   "metadata": {
    "toc": true
   },
   "source": [
    "<h1>Table of Contents<span class=\"tocSkip\"></span></h1>\n",
    "<div class=\"toc\"><ul class=\"toc-item\"><li><span><a href=\"#Variables\" data-toc-modified-id=\"Variables-1\"><span class=\"toc-item-num\">1&nbsp;&nbsp;</span>Variables</a></span><ul class=\"toc-item\"><li><span><a href=\"#Printing\" data-toc-modified-id=\"Printing-1.1\"><span class=\"toc-item-num\">1.1&nbsp;&nbsp;</span>Printing</a></span></li><li><span><a href=\"#Cannot-modify-Variable\" data-toc-modified-id=\"Cannot-modify-Variable-1.2\"><span class=\"toc-item-num\">1.2&nbsp;&nbsp;</span>Cannot modify Variable</a></span></li><li><span><a href=\"#Mutable-keyword\" data-toc-modified-id=\"Mutable-keyword-1.3\"><span class=\"toc-item-num\">1.3&nbsp;&nbsp;</span>Mutable keyword</a></span></li><li><span><a href=\"#Constant-keyword\" data-toc-modified-id=\"Constant-keyword-1.4\"><span class=\"toc-item-num\">1.4&nbsp;&nbsp;</span>Constant keyword</a></span></li><li><span><a href=\"#Shadowing\" data-toc-modified-id=\"Shadowing-1.5\"><span class=\"toc-item-num\">1.5&nbsp;&nbsp;</span>Shadowing</a></span></li></ul></li><li><span><a href=\"#Data-Types\" data-toc-modified-id=\"Data-Types-2\"><span class=\"toc-item-num\">2&nbsp;&nbsp;</span>Data Types</a></span><ul class=\"toc-item\"><li><span><a href=\"#Scalar-Types\" data-toc-modified-id=\"Scalar-Types-2.1\"><span class=\"toc-item-num\">2.1&nbsp;&nbsp;</span>Scalar Types</a></span></li><li><span><a href=\"#Compound-Types\" data-toc-modified-id=\"Compound-Types-2.2\"><span class=\"toc-item-num\">2.2&nbsp;&nbsp;</span>Compound Types</a></span></li><li><span><a href=\"#Data-Types-Operations\" data-toc-modified-id=\"Data-Types-Operations-2.3\"><span class=\"toc-item-num\">2.3&nbsp;&nbsp;</span>Data Types Operations</a></span></li></ul></li><li><span><a href=\"#Functions\" data-toc-modified-id=\"Functions-3\"><span class=\"toc-item-num\">3&nbsp;&nbsp;</span>Functions</a></span></li><li><span><a href=\"#Comments\" data-toc-modified-id=\"Comments-4\"><span class=\"toc-item-num\">4&nbsp;&nbsp;</span>Comments</a></span></li><li><span><a href=\"#Control-Flow\" data-toc-modified-id=\"Control-Flow-5\"><span class=\"toc-item-num\">5&nbsp;&nbsp;</span>Control Flow</a></span></li><li><span><a href=\"#Ownership\" data-toc-modified-id=\"Ownership-6\"><span class=\"toc-item-num\">6&nbsp;&nbsp;</span>Ownership</a></span></li><li><span><a href=\"#References-&amp;-Borrowing\" data-toc-modified-id=\"References-&amp;-Borrowing-7\"><span class=\"toc-item-num\">7&nbsp;&nbsp;</span>References &amp; Borrowing</a></span></li><li><span><a href=\"#Slices\" data-toc-modified-id=\"Slices-8\"><span class=\"toc-item-num\">8&nbsp;&nbsp;</span>Slices</a></span></li><li><span><a href=\"#Structs\" data-toc-modified-id=\"Structs-9\"><span class=\"toc-item-num\">9&nbsp;&nbsp;</span>Structs</a></span></li><li><span><a href=\"#Enums\" data-toc-modified-id=\"Enums-10\"><span class=\"toc-item-num\">10&nbsp;&nbsp;</span>Enums</a></span></li></ul></div>"
   ]
  },
  {
   "cell_type": "markdown",
   "metadata": {},
   "source": [
    "# Variables"
   ]
  },
  {
   "cell_type": "markdown",
   "metadata": {},
   "source": [
    "## Printing"
   ]
  },
  {
   "cell_type": "code",
   "execution_count": 2,
   "metadata": {},
   "outputs": [
    {
     "name": "stdout",
     "output_type": "stream",
     "text": [
      "Nithin\n"
     ]
    }
   ],
   "source": [
    "let mut a = String::from(\"Nithin\");\n",
    "println!(\"{}\", a);"
   ]
  },
  {
   "cell_type": "markdown",
   "metadata": {},
   "source": [
    "## Cannot modify Variable"
   ]
  },
  {
   "cell_type": "code",
   "execution_count": 3,
   "metadata": {},
   "outputs": [
    {
     "ename": "Error",
     "evalue": "cannot assign twice to immutable variable `x`",
     "output_type": "error",
     "traceback": [
      "let x = 5;",
      "\u001b[91m    ^\u001b[0m \u001b[94mfirst assignment to `x`\u001b[0m",
      "x = 6;",
      "\u001b[91m^^^^^\u001b[0m \u001b[94mcannot assign twice to immutable variable\u001b[0m",
      "cannot assign twice to immutable variable `x`"
     ]
    }
   ],
   "source": [
    "// Cannot modify x.\n",
    "let x = 5;\n",
    "println!(\"Value(x) : {}\", x);\n",
    "x = 6;\n",
    "println!(\"Value(x) : {}\", x);"
   ]
  },
  {
   "cell_type": "markdown",
   "metadata": {},
   "source": [
    "## Mutable keyword"
   ]
  },
  {
   "cell_type": "code",
   "execution_count": 4,
   "metadata": {},
   "outputs": [
    {
     "name": "stdout",
     "output_type": "stream",
     "text": [
      "Value(x) : 5\n",
      "Value(x) : 6\n"
     ]
    }
   ],
   "source": [
    "// Can modify x.\n",
    "let mut x = 5;\n",
    "println!(\"Value(x) : {}\", x);\n",
    "x = 6;\n",
    "println!(\"Value(x) : {}\", x);"
   ]
  },
  {
   "cell_type": "markdown",
   "metadata": {},
   "source": [
    "## Constant keyword\n",
    "Constants are valid for entire time of the program"
   ]
  },
  {
   "cell_type": "code",
   "execution_count": 5,
   "metadata": {},
   "outputs": [
    {
     "ename": "Error",
     "evalue": "expected `:`, found `=`",
     "output_type": "error",
     "traceback": [
      "const A = 5; // Always needs a type",
      "\u001b[91m        ^\u001b[0m \u001b[94mexpected `:`\u001b[0m",
      "expected `:`, found `=`"
     ]
    }
   ],
   "source": [
    "const A = 5; // Always needs a type\n",
    "println!(\"Value(A): {}\", A);"
   ]
  },
  {
   "cell_type": "code",
   "execution_count": 6,
   "metadata": {},
   "outputs": [
    {
     "name": "stdout",
     "output_type": "stream",
     "text": [
      "Value(A): 5\n"
     ]
    }
   ],
   "source": [
    "const A: i32 = 5;\n",
    "println!(\"Value(A): {}\", A);"
   ]
  },
  {
   "cell_type": "markdown",
   "metadata": {},
   "source": [
    "## Shadowing"
   ]
  },
  {
   "cell_type": "code",
   "execution_count": 7,
   "metadata": {},
   "outputs": [
    {
     "name": "stdout",
     "output_type": "stream",
     "text": [
      "Value(a) : 5\n",
      "Value(a) : Hello\n"
     ]
    }
   ],
   "source": [
    "let a = 5;\n",
    "println!(\"Value(a) : {}\", a);\n",
    "let mut a = \"Hello\";\n",
    "println!(\"Value(a) : {}\", a);"
   ]
  },
  {
   "cell_type": "markdown",
   "metadata": {},
   "source": [
    "# Data Types"
   ]
  },
  {
   "cell_type": "markdown",
   "metadata": {},
   "source": [
    "## Scalar Types"
   ]
  },
  {
   "cell_type": "code",
   "execution_count": 8,
   "metadata": {},
   "outputs": [],
   "source": [
    "// Integers Unsigned\n",
    "let a: u8 = 1;\n",
    "let a: u16 = 1;\n",
    "let a: u32 = 1;\n",
    "let a: u64 = 1;\n",
    "let a: u128 = 1;\n",
    "\n",
    "// Integers Signed\n",
    "let a: i8 = 1;\n",
    "let a: i16 = 1;\n",
    "let a: i32 = 1;\n",
    "let a: i64 = 1;\n",
    "let a: i128 = 1;\n",
    "\n",
    "// Integers Floats\n",
    "let a: f32 = 1.0;\n",
    "let a: f64 = 1.0;\n",
    "\n",
    "// Integer Boolean\n",
    "let a: bool = true;\n",
    "\n",
    "// Integer Character\n",
    "let a: char = 'z';"
   ]
  },
  {
   "cell_type": "markdown",
   "metadata": {},
   "source": [
    "## Compound Types"
   ]
  },
  {
   "cell_type": "code",
   "execution_count": 9,
   "metadata": {},
   "outputs": [
    {
     "name": "stdout",
     "output_type": "stream",
     "text": [
      "ith\n",
      "\n",
      "[2, 3, 4]\n",
      "3\n",
      "4\n",
      "5\n",
      "\n",
      "1, 1, Hello\n",
      "1, 1.0, \"Hello\"\n"
     ]
    },
    {
     "data": {
      "text/plain": [
       "()"
      ]
     },
     "execution_count": 9,
     "metadata": {},
     "output_type": "execute_result"
    }
   ],
   "source": [
    "{\n",
    "  // String slice\n",
    "  let a: &str = \"Nithin\";\n",
    "  println!(\"{}\", &a[1..4]); // Display trait\n",
    "\n",
    "  // Array\n",
    "  let a: [u8; 5] = [1, 2, 3, 4, 5];\n",
    "  println!(\"\\n{:?}\", &a[1..4]); // Debug trait\n",
    "  println!(\"{:?}\", a[2]);\n",
    "  println!(\"{:?}\", a[3]);\n",
    "  println!(\"{:?}\", a[4]);\n",
    "\n",
    "  // Tuples\n",
    "  let a: (u8, f32, &str) = (1, 1.0, \"Hello\");\n",
    "  println!(\"\\n{}, {}, {}\", a.0, a.1, a.2); \n",
    "  println!(\"{}, {:?}, {:?}\", a.0, a.1, a.2); // Debug trait\n",
    "}"
   ]
  },
  {
   "cell_type": "markdown",
   "metadata": {},
   "source": [
    "## Data Types Operations"
   ]
  },
  {
   "cell_type": "code",
   "execution_count": 10,
   "metadata": {},
   "outputs": [
    {
     "name": "stdout",
     "output_type": "stream",
     "text": [
      "Value(a): [3, 3, 3, 3, 3]\n",
      "Value(b): [1, 2, 3, 3, 3, 3, 3, 3]\n"
     ]
    }
   ],
   "source": [
    "let a = [3; 5];\n",
    "println!(\"Value(a): {:?}\", a);\n",
    "\n",
    "let b: Vec<i32> = [1, 2, 3].iter().chain(&a).map(|&x| x).collect();\n",
    "println!(\"Value(b): {:?}\", b);"
   ]
  },
  {
   "cell_type": "code",
   "execution_count": 11,
   "metadata": {},
   "outputs": [
    {
     "name": "stdout",
     "output_type": "stream",
     "text": [
      "Value(a): 61864918\n",
      "Value(a): 255\n",
      "Value(a): 63\n"
     ]
    }
   ],
   "source": [
    "let a = 61_864_918;\n",
    "println!(\"Value(a): {}\", a);\n",
    "let a = 0xff;\n",
    "println!(\"Value(a): {}\", a);\n",
    "let a = 0o77;\n",
    "println!(\"Value(a): {}\", a);\n",
    "let a = 0b1111_0000;\n",
    "println!(\"Value(a): {}\", a);\n",
    "let a = b'A';\n",
    "println!(\"Value(a): {}\", a);"
   ]
  },
  {
   "cell_type": "code",
   "execution_count": 12,
   "metadata": {},
   "outputs": [
    {
     "name": "stdout",
     "output_type": "stream",
     "text": [
      "Value(a): 240\n",
      "Value(a): 65\n",
      "Value(guess): 42\n"
     ]
    }
   ],
   "source": [
    "let guess = \"42\".parse().expect(\"Not a number!\");\n",
    "println!(\"Value(guess): {}\", guess);"
   ]
  },
  {
   "cell_type": "code",
   "execution_count": 13,
   "metadata": {},
   "outputs": [],
   "source": [
    "// addition\n",
    "let sum = 5 + 10;\n",
    "\n",
    "// subtraction\n",
    "let difference = 95.5 - 4.3;\n",
    "\n",
    "// multiplication\n",
    "let product = 4 * 30;\n",
    "\n",
    "// division\n",
    "let quotient = 56.7 / 32.2;\n",
    "\n",
    "// remainder\n",
    "let remainder = 43 % 5;"
   ]
  },
  {
   "cell_type": "code",
   "execution_count": 14,
   "metadata": {},
   "outputs": [
    {
     "name": "stdout",
     "output_type": "stream",
     "text": [
      "Hello World\n"
     ]
    },
    {
     "data": {
      "text/plain": [
       "()"
      ]
     },
     "execution_count": 14,
     "metadata": {},
     "output_type": "execute_result"
    }
   ],
   "source": [
    "fn greet() {\n",
    "    println!(\"Hello World\");\n",
    "} // Returns empty tuple\n",
    "greet()"
   ]
  },
  {
   "cell_type": "code",
   "execution_count": 15,
   "metadata": {},
   "outputs": [
    {
     "data": {
      "text/plain": [
       "true"
      ]
     },
     "execution_count": 15,
     "metadata": {},
     "output_type": "execute_result"
    }
   ],
   "source": [
    "Option::is_some(&Some(15))"
   ]
  },
  {
   "cell_type": "code",
   "execution_count": 16,
   "metadata": {},
   "outputs": [
    {
     "name": "stdout",
     "output_type": "stream",
     "text": [
      "[1, 2, 3, 4]\n"
     ]
    },
    {
     "data": {
      "text/plain": [
       "()"
      ]
     },
     "execution_count": 16,
     "metadata": {},
     "output_type": "execute_result"
    }
   ],
   "source": [
    "{\n",
    "  let a: Vec<u32> = vec![1, 2, 3, 4, 5, 3, 2, 1];\n",
    "  println!(\"{:?}\", a.iter().take_while(|&x| *x != 5 as u32).collect::<Vec<&u32>>())\n",
    "}"
   ]
  },
  {
   "cell_type": "code",
   "execution_count": 17,
   "metadata": {},
   "outputs": [
    {
     "name": "stdout",
     "output_type": "stream",
     "text": [
      "[MyStruct { id: 1, id_type: 'd' }, MyStruct { id: 2, id_type: 'd' }, MyStruct { id: 3, id_type: 'd' }]\n"
     ]
    },
    {
     "data": {
      "text/plain": [
       "()"
      ]
     },
     "execution_count": 17,
     "metadata": {},
     "output_type": "execute_result"
    }
   ],
   "source": [
    "{\n",
    "  #[derive(Debug)]\n",
    "  struct MyStruct {\n",
    "    id: u32,\n",
    "    id_type: char\n",
    "  }\n",
    "\n",
    "  {\n",
    "    let a: Vec<MyStruct> = vec![MyStruct {id: 1, id_type: 'a'}, MyStruct {id: 2, id_type: 'a'}, MyStruct {id: 3, id_type: 'a'}];\n",
    "    // let a: Vec<MyStruct> = vec![];\n",
    "\n",
    "    let b: Vec<MyStruct> = vec![MyStruct {id: 1, id_type: 'b'}, MyStruct {id: 2, id_type: 'b'}, MyStruct {id: 3, id_type: 'b'}];\n",
    "    // let b: Vec<MyStruct> = vec![];\n",
    "\n",
    "    let c: Vec<MyStruct> = vec![MyStruct {id: 1, id_type: 'c'}, MyStruct {id: 2, id_type: 'c'}, MyStruct {id: 3, id_type: 'c'}];\n",
    "    // let c: Vec<MyStruct> = vec![];\n",
    "\n",
    "    let d: Vec<MyStruct> = vec![MyStruct {id: 1, id_type: 'd'}, MyStruct {id: 2, id_type: 'd'}, MyStruct {id: 3, id_type: 'd'}];\n",
    "\n",
    "    let answer: Vec<&MyStruct> = a\n",
    "      .iter()\n",
    "      .chain(&b)\n",
    "      .chain(&c)\n",
    "      .take(0) // 0 here\n",
    "      .chain(&d)\n",
    "      .take(3)\n",
    "      .collect();\n",
    "    println!(\"{:?}\", answer);\n",
    "  }\n",
    "}"
   ]
  },
  {
   "cell_type": "code",
   "execution_count": 18,
   "metadata": {},
   "outputs": [
    {
     "name": "stdout",
     "output_type": "stream",
     "text": [
      "B { id: 1 }\n",
      "A { id: 1 }\n"
     ]
    },
    {
     "data": {
      "text/plain": [
       "()"
      ]
     },
     "execution_count": 18,
     "metadata": {},
     "output_type": "execute_result"
    }
   ],
   "source": [
    "{\n",
    "  #[derive(Debug)]\n",
    "  struct A {\n",
    "    id: u32\n",
    "  }\n",
    "\n",
    "  #[derive(Debug)]\n",
    "  struct B {\n",
    "    id: u32\n",
    "  }\n",
    "\n",
    "  impl From<&A> for B {\n",
    "    fn from(a:&A) -> Self {\n",
    "      Self {\n",
    "        id: a.id\n",
    "      }\n",
    "    }\n",
    "  }\n",
    "\n",
    "  let a = A {id: 1};\n",
    "  let b: B = (&a).into();\n",
    "  println!(\"{:?}\", b);\n",
    "  println!(\"{:?}\", a);\n",
    "}"
   ]
  },
  {
   "cell_type": "markdown",
   "metadata": {},
   "source": [
    "# Functions\n",
    "\n",
    "- Rust doesn’t care where you define your functions, only that they’re defined somewhere.\n",
    "- No function overloading in Rust."
   ]
  },
  {
   "cell_type": "code",
   "execution_count": 20,
   "metadata": {},
   "outputs": [
    {
     "name": "stdout",
     "output_type": "stream",
     "text": [
      "Value(x) : 15\n"
     ]
    },
    {
     "data": {
      "text/plain": [
       "()"
      ]
     },
     "execution_count": 20,
     "metadata": {},
     "output_type": "execute_result"
    }
   ],
   "source": [
    "// Simple function\n",
    "{\n",
    "  fn abc(x: i32) {\n",
    "    println!(\"Value(x) : {}\", x)\n",
    "  }\n",
    "  abc(15)\n",
    "}"
   ]
  },
  {
   "cell_type": "code",
   "execution_count": 22,
   "metadata": {},
   "outputs": [
    {
     "data": {
      "text/plain": [
       "5"
      ]
     },
     "execution_count": 22,
     "metadata": {},
     "output_type": "execute_result"
    }
   ],
   "source": [
    "// Blocks can return values\n",
    "let x = {\n",
    "  let y = 5;\n",
    "  y\n",
    "};\n",
    "x"
   ]
  },
  {
   "cell_type": "code",
   "execution_count": 24,
   "metadata": {},
   "outputs": [
    {
     "name": "stdout",
     "output_type": "stream",
     "text": [
      "5 + 1 = 6\n"
     ]
    },
    {
     "data": {
      "text/plain": [
       "()"
      ]
     },
     "execution_count": 24,
     "metadata": {},
     "output_type": "execute_result"
    }
   ],
   "source": [
    "// Functions can return values without explicitly specifying return statement\n",
    "{\n",
    "  fn add_one(x: i32) -> i32 {\n",
    "    x + 1\n",
    "  }\n",
    "  let x = 5;\n",
    "  println!(\"{} + 1 = {}\", x, add_one(x))\n",
    "}"
   ]
  },
  {
   "cell_type": "markdown",
   "metadata": {},
   "source": [
    "# Comments"
   ]
  },
  {
   "cell_type": "code",
   "execution_count": 26,
   "metadata": {},
   "outputs": [],
   "source": [
    "// Single line comment\n",
    "/*\n",
    "Multi\n",
    "Line\n",
    "Comment\n",
    "*/"
   ]
  },
  {
   "cell_type": "markdown",
   "metadata": {},
   "source": [
    "# Control Flow"
   ]
  },
  {
   "cell_type": "code",
   "execution_count": 27,
   "metadata": {},
   "outputs": [
    {
     "name": "stdout",
     "output_type": "stream",
     "text": [
      "condition was true\n"
     ]
    },
    {
     "data": {
      "text/plain": [
       "()"
      ]
     },
     "execution_count": 27,
     "metadata": {},
     "output_type": "execute_result"
    }
   ],
   "source": [
    "{\n",
    "  let number = 3;\n",
    "\n",
    "  if number < 5 {\n",
    "    println!(\"condition was true\");\n",
    "  } else {\n",
    "    println!(\"condition was false\");\n",
    "  }\n",
    "}"
   ]
  },
  {
   "cell_type": "code",
   "execution_count": 28,
   "metadata": {},
   "outputs": [
    {
     "name": "stdout",
     "output_type": "stream",
     "text": [
      "The value of number is: 5\n"
     ]
    },
    {
     "data": {
      "text/plain": [
       "()"
      ]
     },
     "execution_count": 28,
     "metadata": {},
     "output_type": "execute_result"
    }
   ],
   "source": [
    "{\n",
    "  let condition = true;\n",
    "  let number = if condition {\n",
    "    5\n",
    "  } else {\n",
    "    6\n",
    "  };\n",
    "\n",
    "  println!(\"The value of number is: {}\", number);\n",
    "}"
   ]
  },
  {
   "cell_type": "code",
   "execution_count": 30,
   "metadata": {},
   "outputs": [
    {
     "name": "stdout",
     "output_type": "stream",
     "text": [
      "again!\n"
     ]
    },
    {
     "data": {
      "text/plain": [
       "()"
      ]
     },
     "execution_count": 30,
     "metadata": {},
     "output_type": "execute_result"
    }
   ],
   "source": [
    "// Infinite loop\n",
    "loop {\n",
    "  println!(\"again!\");\n",
    "  break;\n",
    "}"
   ]
  },
  {
   "cell_type": "code",
   "execution_count": 31,
   "metadata": {},
   "outputs": [
    {
     "name": "stdout",
     "output_type": "stream",
     "text": [
      "The result is 20\n"
     ]
    },
    {
     "data": {
      "text/plain": [
       "()"
      ]
     },
     "execution_count": 31,
     "metadata": {},
     "output_type": "execute_result"
    }
   ],
   "source": [
    "// Returning values from a loop\n",
    "{\n",
    "  let mut counter = 0;\n",
    "\n",
    "  let result = loop {\n",
    "    counter += 1;\n",
    "\n",
    "    if counter == 10 {\n",
    "      break counter * 2;\n",
    "    }\n",
    "  };\n",
    "\n",
    "  println!(\"The result is {}\", result);\n",
    "}"
   ]
  },
  {
   "cell_type": "code",
   "execution_count": 32,
   "metadata": {},
   "outputs": [
    {
     "name": "stdout",
     "output_type": "stream",
     "text": [
      "3!\n",
      "2!\n",
      "1!\n",
      "LIFTOFF!!!\n"
     ]
    },
    {
     "data": {
      "text/plain": [
       "()"
      ]
     },
     "execution_count": 32,
     "metadata": {},
     "output_type": "execute_result"
    }
   ],
   "source": [
    "// While loop\n",
    "{\n",
    "  let mut number = 3;\n",
    "\n",
    "  while number != 0 {\n",
    "    println!(\"{}!\", number);\n",
    "\n",
    "    number -= 1;\n",
    "  }\n",
    "\n",
    "  println!(\"LIFTOFF!!!\");\n",
    "}"
   ]
  },
  {
   "cell_type": "code",
   "execution_count": 33,
   "metadata": {},
   "outputs": [
    {
     "name": "stdout",
     "output_type": "stream",
     "text": [
      "the value is: 10\n",
      "the value is: 20\n",
      "the value is: 30\n",
      "the value is: 40\n",
      "the value is: 50\n"
     ]
    },
    {
     "data": {
      "text/plain": [
       "()"
      ]
     },
     "execution_count": 33,
     "metadata": {},
     "output_type": "execute_result"
    }
   ],
   "source": [
    "// For loop\n",
    "{\n",
    "  let a = [10, 20, 30, 40, 50];\n",
    "\n",
    "  for element in a.iter() {\n",
    "    println!(\"the value is: {}\", element);\n",
    "  }\n",
    "}"
   ]
  },
  {
   "cell_type": "code",
   "execution_count": 34,
   "metadata": {},
   "outputs": [
    {
     "name": "stdout",
     "output_type": "stream",
     "text": [
      "3!\n",
      "2!\n",
      "1!\n",
      "LIFTOFF!!!\n"
     ]
    },
    {
     "data": {
      "text/plain": [
       "()"
      ]
     },
     "execution_count": 34,
     "metadata": {},
     "output_type": "execute_result"
    }
   ],
   "source": [
    "// For loop iterators\n",
    "{\n",
    "  for number in (1..4).rev() {\n",
    "    println!(\"{}!\", number);\n",
    "  }\n",
    "  println!(\"LIFTOFF!!!\");\n",
    "}"
   ]
  },
  {
   "cell_type": "markdown",
   "metadata": {},
   "source": [
    "# Ownership"
   ]
  },
  {
   "cell_type": "code",
   "execution_count": 36,
   "metadata": {},
   "outputs": [
    {
     "name": "stdout",
     "output_type": "stream",
     "text": [
      "Value(x): 5\n"
     ]
    }
   ],
   "source": [
    "// Copy occurs in copy types\n",
    "let x = 5;\n",
    "let y = x;\n",
    "println!(\"Value(x): {}\", x);"
   ]
  },
  {
   "cell_type": "code",
   "execution_count": 37,
   "metadata": {},
   "outputs": [
    {
     "ename": "Error",
     "evalue": "borrow of moved value: `x`",
     "output_type": "error",
     "traceback": [
      "let y = x;",
      "\u001b[91m        ^\u001b[0m \u001b[94mvalue moved here\u001b[0m",
      "println!(\"Value(x): {}\", x);",
      "\u001b[91m                         ^\u001b[0m \u001b[94mvalue borrowed here after move\u001b[0m",
      "let x = String::from(\"hello\");",
      "\u001b[91m    ^\u001b[0m \u001b[94mmove occurs because `x` has type `std::string::String`, which does not implement the `Copy` trait\u001b[0m",
      "borrow of moved value: `x`"
     ]
    }
   ],
   "source": [
    "// Move occurs in non copy types (those which are allocated on the heap)\n",
    "let x = String::from(\"hello\");\n",
    "let y = x;\n",
    "println!(\"Value(x): {}\", x);"
   ]
  },
  {
   "cell_type": "code",
   "execution_count": 2,
   "metadata": {},
   "outputs": [
    {
     "ename": "Error",
     "evalue": "borrow of moved value: `s1`",
     "output_type": "error",
     "traceback": [
      "let s2 = s1;",
      "\u001b[91m         ^^\u001b[0m \u001b[94mvalue moved here\u001b[0m",
      "println!(\"{}, world!\", s1);",
      "\u001b[91m                       ^^\u001b[0m \u001b[94mvalue borrowed here after move\u001b[0m",
      "let s1 = String::from(\"hello\");",
      "\u001b[91m    ^^\u001b[0m \u001b[94mmove occurs because `s1` has type `std::string::String`, which does not implement the `Copy` trait\u001b[0m",
      "borrow of moved value: `s1`"
     ]
    }
   ],
   "source": [
    "// Ownership is transferred here, this prevents the double-free problem.\n",
    "// A shallow copy of the pointer is performed. Data in heap is not copied again.\n",
    "let s1 = String::from(\"hello\");\n",
    "let s2 = s1;\n",
    "\n",
    "println!(\"{}, world!\", s1);"
   ]
  },
  {
   "attachments": {
    "image.png": {
     "image/png": "[encoded data removed]"
    }
   },
   "cell_type": "markdown",
   "metadata": {},
   "source": [
    "![image.png](attachment:image.png)"
   ]
  },
  {
   "cell_type": "code",
   "execution_count": 3,
   "metadata": {},
   "outputs": [
    {
     "name": "stdout",
     "output_type": "stream",
     "text": [
      "s1 = hello, s2 = hello\n"
     ]
    }
   ],
   "source": [
    "// To deep copy.\n",
    "let s1 = String::from(\"hello\");\n",
    "let s2 = s1.clone();\n",
    "\n",
    "println!(\"s1 = {}, s2 = {}\", s1, s2);"
   ]
  },
  {
   "cell_type": "code",
   "execution_count": 4,
   "metadata": {},
   "outputs": [
    {
     "name": "stdout",
     "output_type": "stream",
     "text": [
      "x = 5, y = 5\n"
     ]
    }
   ],
   "source": [
    "//Copy types - Rust wont let us annotate any type with Copy Trait.\n",
    "// Copy trait is only reserved for those which are composed of Copy Traits\n",
    "// eg: Tuples, if they only contain types that are also Copy. \n",
    "// For example, (i32, i32) is Copy, but (i32, String) is not.\n",
    "\n",
    "let x = 5;\n",
    "let y = x;\n",
    "\n",
    "println!(\"x = {}, y = {}\", x, y);"
   ]
  },
  {
   "cell_type": "code",
   "execution_count": 5,
   "metadata": {},
   "outputs": [],
   "source": [
    "// A function can take ownership or give ownership.\n",
    "fn takes_and_gives_back(a_string: String) -> String {\n",
    "  a_string  // a_string is returned and moves out to the calling function\n",
    "}"
   ]
  },
  {
   "cell_type": "markdown",
   "metadata": {},
   "source": [
    "# References & Borrowing"
   ]
  },
  {
   "cell_type": "code",
   "execution_count": 3,
   "metadata": {},
   "outputs": [
    {
     "name": "stdout",
     "output_type": "stream",
     "text": [
      "The length of 'hello' is 5.\n"
     ]
    }
   ],
   "source": [
    "// Immutable References\n",
    "fn calculate_length(s: &String) -> usize {\n",
    "  s.len()\n",
    "}\n",
    "\n",
    "let s1 = String::from(\"hello\");\n",
    "let len = calculate_length(&s1);\n",
    "println!(\"The length of '{}' is {}.\", s1, len);"
   ]
  },
  {
   "attachments": {
    "image.png": {
     "image/png": "[encoded data removed]"
    }
   },
   "cell_type": "markdown",
   "metadata": {},
   "source": [
    "![image.png](attachment:image.png)"
   ]
  },
  {
   "cell_type": "code",
   "execution_count": 4,
   "metadata": {},
   "outputs": [
    {
     "name": "stdout",
     "output_type": "stream",
     "text": [
      "String: hello, world\n"
     ]
    }
   ],
   "source": [
    "// Mutable references\n",
    "fn change(some_string: &mut String) {\n",
    "    some_string.push_str(\", world\");\n",
    "}\n",
    "\n",
    "let mut s = String::from(\"hello\");\n",
    "change(&mut s);\n",
    "println!(\"String: {}\", s);"
   ]
  },
  {
   "cell_type": "code",
   "execution_count": 5,
   "metadata": {},
   "outputs": [
    {
     "ename": "Error",
     "evalue": "`s` does not live long enough",
     "output_type": "error",
     "traceback": [
      "let r1 = &mut s;",
      "\u001b[91m         ^^^^^^\u001b[0m \u001b[94mborrowed value does not live long enough\u001b[0m",
      "`s` does not live long enough"
     ]
    },
    {
     "ename": "Error",
     "evalue": "cannot borrow `s` as mutable more than once at a time",
     "output_type": "error",
     "traceback": [
      "let r1 = &mut s;",
      "\u001b[91m         ^^^^^^\u001b[0m \u001b[94mfirst mutable borrow occurs here\u001b[0m",
      "let r2 = &mut s;",
      "\u001b[91m         ^^^^^^\u001b[0m \u001b[94msecond mutable borrow occurs here\u001b[0m",
      "cannot borrow `s` as mutable more than once at a time"
     ]
    },
    {
     "ename": "Error",
     "evalue": "cannot move out of `s` because it is borrowed",
     "output_type": "error",
     "traceback": [
      "let r1 = &mut s;",
      "\u001b[91m         ^^^^^^\u001b[0m \u001b[94mborrow of `s` occurs here\u001b[0m",
      "cannot move out of `s` because it is borrowed"
     ]
    }
   ],
   "source": [
    "// Only 1 mutable reference\n",
    "let mut s = String::from(\"hello\");\n",
    "\n",
    "let r1 = &mut s;\n",
    "let r2 = &mut s;\n",
    "\n",
    "println!(\"{}, {}\", r1, r2);"
   ]
  },
  {
   "cell_type": "code",
   "execution_count": 9,
   "metadata": {},
   "outputs": [
    {
     "name": "stdout",
     "output_type": "stream",
     "text": [
      "hello\n",
      "hello\n"
     ]
    },
    {
     "data": {
      "text/plain": [
       "()"
      ]
     },
     "execution_count": 9,
     "metadata": {},
     "output_type": "execute_result"
    }
   ],
   "source": [
    "{\n",
    "  // Multiple mutable references but not simultaneous ones. \n",
    "  let mut s = String::from(\"hello\");\n",
    "\n",
    "  {\n",
    "    let r1 = &mut s;\n",
    "    println!(\"{}\", s);\n",
    "\n",
    "  } // r1 goes out of scope here, so we can make a new reference with no problems.\n",
    "\n",
    "  let r2 = &mut s;\n",
    "  println!(\"{}\", s);\n",
    "}"
   ]
  },
  {
   "cell_type": "code",
   "execution_count": 11,
   "metadata": {},
   "outputs": [
    {
     "ename": "Error",
     "evalue": "cannot borrow `s` as mutable because it is also borrowed as immutable",
     "output_type": "error",
     "traceback": [
      "  let r3 = &mut s; // BIG PROBLEM",
      "\u001b[91m           ^^^^^^\u001b[0m \u001b[94mmutable borrow occurs here\u001b[0m",
      "  let r1 = &s; // no problem",
      "\u001b[91m           ^^\u001b[0m \u001b[94mimmutable borrow occurs here\u001b[0m",
      "  println!(\"{}, {}, and {}\", r1, r2, r3);",
      "\u001b[91m                             ^^\u001b[0m \u001b[94mimmutable borrow later used here\u001b[0m",
      "cannot borrow `s` as mutable because it is also borrowed as immutable"
     ]
    }
   ],
   "source": [
    "// Either 1 mutable reference or unlimited immutable references.\n",
    "{\n",
    "  let mut s = String::from(\"hello\");\n",
    "\n",
    "  let r1 = &s; // no problem\n",
    "  let r2 = &s; // no problem\n",
    "  let r3 = &mut s; // BIG PROBLEM\n",
    "\n",
    "  println!(\"{}, {}, and {}\", r1, r2, r3);\n",
    "}"
   ]
  },
  {
   "cell_type": "code",
   "execution_count": 13,
   "metadata": {},
   "outputs": [
    {
     "ename": "Error",
     "evalue": "missing lifetime specifier",
     "output_type": "error",
     "traceback": [
      "  fn dangle() -> &String { // dangle returns a reference to a String",
      "\u001b[91m                 ^\u001b[0m \u001b[94m\u001b[0m",
      "missing lifetime specifier"
     ]
    }
   ],
   "source": [
    "{\n",
    "  fn dangle() -> &String { // dangle returns a reference to a String\n",
    "\n",
    "    let s = String::from(\"hello\"); // s is a new String\n",
    "\n",
    "    &s // we return a reference to the String, s\n",
    "  } // Here, s goes out of scope, and is dropped. Its memory goes away.\n",
    "  // Danger!\n",
    "  dangle();\n",
    "}"
   ]
  },
  {
   "cell_type": "markdown",
   "metadata": {},
   "source": [
    "# Slices"
   ]
  },
  {
   "cell_type": "code",
   "execution_count": 14,
   "metadata": {},
   "outputs": [],
   "source": [
    "fn first_word(s: &String) -> usize {\n",
    "  let bytes = s.as_bytes();\n",
    "\n",
    "  for (i, &item) in bytes.iter().enumerate() {\n",
    "    if item == b' ' {\n",
    "      return i;\n",
    "    }\n",
    "  }\n",
    "\n",
    "  s.len()\n",
    "}\n",
    "\n",
    "let mut s = String::from(\"hello world\");\n",
    "\n",
    "let word = first_word(&s); // word will get the value 5\n",
    "\n",
    "s.clear(); // this empties the String, making it equal to \"\"\n",
    "\n",
    "// word still has the value 5 here, but there's no more string that\n",
    "// we could meaningfully use the value 5 with. word is now totally invalid!"
   ]
  },
  {
   "cell_type": "code",
   "execution_count": 15,
   "metadata": {},
   "outputs": [
    {
     "ename": "Error",
     "evalue": "`s` does not live long enough",
     "output_type": "error",
     "traceback": [
      "let word = first_word(&s); ",
      "\u001b[91m                      ^^\u001b[0m \u001b[94mborrowed value does not live long enough\u001b[0m",
      "let word = first_word(&s); ",
      "\u001b[91m           ^^^^^^^^^^^^^^\u001b[0m \u001b[94margument requires that `s` is borrowed for `'static`\u001b[0m",
      "`s` does not live long enough"
     ]
    },
    {
     "ename": "Error",
     "evalue": "cannot borrow `s` as mutable because it is also borrowed as immutable",
     "output_type": "error",
     "traceback": [
      "s.clear(); ",
      "\u001b[91m^^^^^^^^^\u001b[0m \u001b[94mmutable borrow occurs here\u001b[0m",
      "let word = first_word(&s); ",
      "\u001b[91m                      ^^\u001b[0m \u001b[94mimmutable borrow occurs here\u001b[0m",
      "let word = first_word(&s); ",
      "\u001b[91m           ^^^^^^^^^^^^^^\u001b[0m \u001b[94margument requires that `s` is borrowed for `'static`\u001b[0m",
      "cannot borrow `s` as mutable because it is also borrowed as immutable"
     ]
    },
    {
     "ename": "Error",
     "evalue": "cannot move out of `s` because it is borrowed",
     "output_type": "error",
     "traceback": [
      "let word = first_word(&s); ",
      "\u001b[91m                      ^^\u001b[0m \u001b[94mborrow of `s` occurs here\u001b[0m",
      "let word = first_word(&s); ",
      "\u001b[91m           ^^^^^^^^^^^^^^\u001b[0m \u001b[94margument requires that `s` is borrowed for `'static`\u001b[0m",
      "cannot move out of `s` because it is borrowed"
     ]
    }
   ],
   "source": [
    "fn first_word(s: &String) -> &str {\n",
    "    let bytes = s.as_bytes();\n",
    "\n",
    "    for (i, &item) in bytes.iter().enumerate() {\n",
    "        if item == b' ' {\n",
    "            return &s[0..i];\n",
    "        }\n",
    "    }\n",
    "\n",
    "    &s[..]\n",
    "}\n",
    "\n",
    "let mut s = String::from(\"hello world\");\n",
    "\n",
    "let word = first_word(&s); // word will get the value 5\n",
    "\n",
    "s.clear(); // this empties the String, making it equal to \"\"\n"
   ]
  },
  {
   "cell_type": "markdown",
   "metadata": {},
   "source": [
    "# Structs"
   ]
  },
  {
   "cell_type": "code",
   "execution_count": 2,
   "metadata": {},
   "outputs": [],
   "source": [
    "struct User {\n",
    "    username: String,\n",
    "    email: String,\n",
    "    sign_in_count: u64,\n",
    "    active: bool,\n",
    "}"
   ]
  },
  {
   "cell_type": "code",
   "execution_count": 3,
   "metadata": {},
   "outputs": [
    {
     "ename": "Error",
     "evalue": "the trait `Copy` may not be implemented for this type",
     "output_type": "error",
     "traceback": [
      "    username: String,",
      "\u001b[91m    ^^^^^^^^^^^^^^^^\u001b[0m \u001b[94mthis field does not implement `Copy`\u001b[0m",
      "    email: String,",
      "\u001b[91m    ^^^^^^^^^^^^^\u001b[0m \u001b[94mthis field does not implement `Copy`\u001b[0m",
      "#[derive(Copy)]",
      "\u001b[91m         ^^^^\u001b[0m \u001b[94m\u001b[0m",
      "the trait `Copy` may not be implemented for this type"
     ]
    }
   ],
   "source": [
    "#[derive(Copy)]\n",
    "struct UserWithCopyNotPossible {\n",
    "    username: String,\n",
    "    email: String,\n",
    "    sign_in_count: u64,\n",
    "    active: bool,\n",
    "}"
   ]
  },
  {
   "cell_type": "code",
   "execution_count": 4,
   "metadata": {},
   "outputs": [],
   "source": [
    "let mut user1 = User {\n",
    "    email: String::from(\"someone@example.com\"),\n",
    "    username: String::from(\"someusername123\"),\n",
    "    active: true,\n",
    "    sign_in_count: 1,\n",
    "};\n",
    "\n",
    "user1.email = String::from(\"anotheremail@example.com\");"
   ]
  },
  {
   "cell_type": "code",
   "execution_count": 5,
   "metadata": {},
   "outputs": [],
   "source": [
    "let user2 = User {\n",
    "    email: String::from(\"another@example.com\"),\n",
    "    username: String::from(\"anotherusername567\"),\n",
    "    ..user1\n",
    "};"
   ]
  },
  {
   "cell_type": "code",
   "execution_count": 6,
   "metadata": {},
   "outputs": [],
   "source": [
    "struct Color(i32, i32, i32);\n",
    "struct Point(i32, i32, i32);\n",
    "\n",
    "let black = Color(0, 0, 0);\n",
    "let origin = Point(0, 0, 0);"
   ]
  },
  {
   "cell_type": "code",
   "execution_count": 7,
   "metadata": {},
   "outputs": [
    {
     "ename": "Error",
     "evalue": "missing lifetime specifier",
     "output_type": "error",
     "traceback": [
      "    username: &str,",
      "\u001b[91m              ^\u001b[0m \u001b[94mexpected named lifetime parameter\u001b[0m",
      "missing lifetime specifier"
     ]
    },
    {
     "ename": "Error",
     "evalue": "missing lifetime specifier",
     "output_type": "error",
     "traceback": [
      "    email: &str,",
      "\u001b[91m           ^\u001b[0m \u001b[94mexpected named lifetime parameter\u001b[0m",
      "missing lifetime specifier"
     ]
    }
   ],
   "source": [
    "// If struct doesn't own data. It needs lifetimes.\n",
    "struct User {\n",
    "    username: &str,\n",
    "    email: &str,\n",
    "    sign_in_count: u64,\n",
    "    active: bool,\n",
    "}\n",
    "\n",
    "fn main() {\n",
    "    let user1 = User {\n",
    "        email: \"someone@example.com\",\n",
    "        username: \"someusername123\",\n",
    "        active: true,\n",
    "        sign_in_count: 1,\n",
    "    };\n",
    "}"
   ]
  },
  {
   "cell_type": "code",
   "execution_count": 8,
   "metadata": {},
   "outputs": [
    {
     "name": "stdout",
     "output_type": "stream",
     "text": [
      "The area of the rectangle is 1500 square pixels.\n"
     ]
    }
   ],
   "source": [
    "#[derive(Debug)]\n",
    "struct Rectangle {\n",
    "  width: u32,\n",
    "  height: u32,\n",
    "}\n",
    "\n",
    "impl Rectangle {\n",
    "  fn area(&self) -> u32 {\n",
    "      self.width * self.height\n",
    "  }\n",
    "}\n",
    "\n",
    "let rect1 = Rectangle { width: 30, height: 50 };\n",
    "\n",
    "println!(\n",
    "  \"The area of the rectangle is {} square pixels.\",\n",
    "  rect1.area()\n",
    ");\n"
   ]
  },
  {
   "cell_type": "markdown",
   "metadata": {},
   "source": [
    "# Enums"
   ]
  },
  {
   "cell_type": "code",
   "execution_count": 9,
   "metadata": {},
   "outputs": [],
   "source": [
    "// Enums can store values.\n",
    "enum IpAddr {\n",
    "    V4(u8, u8, u8, u8),\n",
    "    V6(String),\n",
    "}\n",
    "\n",
    "let home = IpAddr::V4(127, 0, 0, 1);\n",
    "\n",
    "let loopback = IpAddr::V6(String::from(\"::1\"));"
   ]
  },
  {
   "cell_type": "code",
   "execution_count": 10,
   "metadata": {},
   "outputs": [],
   "source": [
    "// Enums with Anonymous structs.\n",
    "enum Message {\n",
    "    Quit,\n",
    "    Move { x: i32, y: i32 }, // Anonymous struct\n",
    "    Write(String),\n",
    "    ChangeColor(i32, i32, i32),\n",
    "}"
   ]
  },
  {
   "cell_type": "code",
   "execution_count": 11,
   "metadata": {},
   "outputs": [],
   "source": [
    "// Can implement methods on enums\n",
    "impl Message {\n",
    "    fn call(&self) {\n",
    "        // method body would be defined here\n",
    "    }\n",
    "}\n",
    "\n",
    "let m = Message::Write(String::from(\"hello\"));\n",
    "m.call();"
   ]
  },
  {
   "cell_type": "code",
   "execution_count": 13,
   "metadata": {},
   "outputs": [
    {
     "ename": "Error",
     "evalue": "cannot add `std::option::Option<i8>` to `i8`",
     "output_type": "error",
     "traceback": [
      "let sum = x + y;",
      "\u001b[91m            ^\u001b[0m \u001b[94mno implementation for `i8 + std::option::Option<i8>`\u001b[0m",
      "cannot add `std::option::Option<i8>` to `i8`"
     ]
    }
   ],
   "source": [
    "// Option Type. Prevents us from doing operations on a null value at compile time.\n",
    "let x: i8 = 5;\n",
    "let y: Option<i8> = Some(5);\n",
    "\n",
    "let sum = x + y;"
   ]
  },
  {
   "cell_type": "code",
   "execution_count": 14,
   "metadata": {},
   "outputs": [],
   "source": [
    "// Using the match statement\n",
    "fn plus_one(x: Option<i32>) -> Option<i32> {\n",
    "    match x {\n",
    "        None => None,\n",
    "        Some(i) => Some(i + 1),\n",
    "    }\n",
    "}\n",
    "\n",
    "let five = Some(5);\n",
    "let six = plus_one(five);\n",
    "let none = plus_one(None);"
   ]
  },
  {
   "cell_type": "code",
   "execution_count": null,
   "metadata": {},
   "outputs": [],
   "source": []
  }
 ],
 "metadata": {
  "kernelspec": {
   "display_name": "Rust",
   "language": "rust",
   "name": "rust"
  },
  "language_info": {
   "codemirror_mode": "rust",
   "file_extension": ".rs",
   "mimetype": "text/rust",
   "name": "Rust",
   "pygment_lexer": "rust",
   "version": ""
  },
  "toc": {
   "base_numbering": 1,
   "nav_menu": {
    "height": "255px",
    "width": "232px"
   },
   "number_sections": true,
   "sideBar": true,
   "skip_h1_title": false,
   "title_cell": "Table of Contents",
   "title_sidebar": "Contents",
   "toc_cell": true,
   "toc_position": {
    "height": "calc(100% - 180px)",
    "left": "10px",
    "top": "150px",
    "width": "266px"
   },
   "toc_section_display": true,
   "toc_window_display": true
  }
 },
 "nbformat": 4,
 "nbformat_minor": 4
}
