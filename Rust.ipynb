{
 "cells": [
  {
   "cell_type": "markdown",
   "metadata": {},
   "source": [
    "# Variables"
   ]
  },
  {
   "cell_type": "markdown",
   "metadata": {},
   "source": [
    "## Printing"
   ]
  },
  {
   "cell_type": "code",
   "execution_count": 2,
   "metadata": {},
   "outputs": [
    {
     "name": "stdout",
     "output_type": "stream",
     "text": [
      "Nithin\n"
     ]
    }
   ],
   "source": [
    "let mut a = String::from(\"Nithin\");\n",
    "println!(\"{}\", a);"
   ]
  },
  {
   "cell_type": "markdown",
   "metadata": {},
   "source": [
    "## Cannot modify Variable"
   ]
  },
  {
   "cell_type": "code",
   "execution_count": 3,
   "metadata": {},
   "outputs": [
    {
     "ename": "Error",
     "evalue": "cannot assign twice to immutable variable `x`",
     "output_type": "error",
     "traceback": [
      "let x = 5;",
      "\u001b[91m    ^\u001b[0m \u001b[94mfirst assignment to `x`\u001b[0m",
      "x = 6;",
      "\u001b[91m^^^^^\u001b[0m \u001b[94mcannot assign twice to immutable variable\u001b[0m",
      "cannot assign twice to immutable variable `x`"
     ]
    }
   ],
   "source": [
    "// Cannot modify x.\n",
    "let x = 5;\n",
    "println!(\"Value(x) : {}\", x);\n",
    "x = 6;\n",
    "println!(\"Value(x) : {}\", x);"
   ]
  },
  {
   "cell_type": "markdown",
   "metadata": {},
   "source": [
    "## Mutable keyword"
   ]
  },
  {
   "cell_type": "code",
   "execution_count": 4,
   "metadata": {},
   "outputs": [
    {
     "name": "stdout",
     "output_type": "stream",
     "text": [
      "Value(x) : 5\n",
      "Value(x) : 6\n"
     ]
    }
   ],
   "source": [
    "// Can modify x.\n",
    "let mut x = 5;\n",
    "println!(\"Value(x) : {}\", x);\n",
    "x = 6;\n",
    "println!(\"Value(x) : {}\", x);"
   ]
  },
  {
   "cell_type": "markdown",
   "metadata": {},
   "source": [
    "## Constant keyword\n",
    "Constants are valid for entire time of the program"
   ]
  },
  {
   "cell_type": "code",
   "execution_count": 5,
   "metadata": {},
   "outputs": [
    {
     "ename": "Error",
     "evalue": "missing type for `const` item",
     "output_type": "error",
     "traceback": [
      "const A = 5; // Always needs a type",
      "\u001b[91m      ^\u001b[0m \u001b[94m\u001b[0m",
      "missing type for `const` item"
     ]
    }
   ],
   "source": [
    "const A = 5; // Always needs a type\n",
    "println!(\"Value(A): {}\", A);"
   ]
  },
  {
   "cell_type": "code",
   "execution_count": 6,
   "metadata": {},
   "outputs": [
    {
     "name": "stdout",
     "output_type": "stream",
     "text": [
      "Value(A): 5\n"
     ]
    }
   ],
   "source": [
    "const A: i32 = 5;\n",
    "println!(\"Value(A): {}\", A);"
   ]
  },
  {
   "cell_type": "markdown",
   "metadata": {},
   "source": [
    "## Shadowing"
   ]
  },
  {
   "cell_type": "code",
   "execution_count": 7,
   "metadata": {},
   "outputs": [
    {
     "name": "stdout",
     "output_type": "stream",
     "text": [
      "Value(a) : 5\n",
      "Value(a) : Hello\n"
     ]
    }
   ],
   "source": [
    "let a = 5;\n",
    "println!(\"Value(a) : {}\", a);\n",
    "let mut a = \"Hello\";\n",
    "println!(\"Value(a) : {}\", a);"
   ]
  },
  {
   "cell_type": "markdown",
   "metadata": {},
   "source": [
    "# Data Types"
   ]
  },
  {
   "cell_type": "markdown",
   "metadata": {},
   "source": [
    "## Scalar Types"
   ]
  },
  {
   "cell_type": "code",
   "execution_count": 8,
   "metadata": {},
   "outputs": [],
   "source": [
    "// Integers Unsigned\n",
    "let a: u8 = 1;\n",
    "let a: u16 = 1;\n",
    "let a: u32 = 1;\n",
    "let a: u64 = 1;\n",
    "let a: u128 = 1;\n",
    "\n",
    "// Integers Signed\n",
    "let a: i8 = 1;\n",
    "let a: i16 = 1;\n",
    "let a: i32 = 1;\n",
    "let a: i64 = 1;\n",
    "let a: i128 = 1;\n",
    "\n",
    "// Integers Floats\n",
    "let a: f32 = 1.0;\n",
    "let a: f64 = 1.0;\n",
    "\n",
    "// Integer Boolean\n",
    "let a: bool = true;\n",
    "\n",
    "// Integer Character\n",
    "let a: char = 'z';"
   ]
  },
  {
   "cell_type": "markdown",
   "metadata": {},
   "source": [
    "## Compound Types"
   ]
  },
  {
   "cell_type": "code",
   "execution_count": 9,
   "metadata": {},
   "outputs": [
    {
     "name": "stdout",
     "output_type": "stream",
     "text": [
      "ith\n",
      "\n",
      "[2, 3, 4]\n",
      "3\n",
      "4\n",
      "5\n",
      "\n",
      "1, 1, Hello\n",
      "1, 1.0, \"Hello\"\n"
     ]
    }
   ],
   "source": [
    "// String slice\n",
    "let a: &str = \"Nithin\";\n",
    "println!(\"{}\", &a[1..4]); // Display trait\n",
    "\n",
    "// Array\n",
    "let a: [u8; 5] = [1, 2, 3, 4, 5];\n",
    "println!(\"\\n{:?}\", &a[1..4]); // Debug trait\n",
    "println!(\"{:?}\", a[2]);\n",
    "println!(\"{:?}\", a[3]);\n",
    "println!(\"{:?}\", a[4]);\n",
    "\n",
    "// Tuples\n",
    "let a: (u8, f32, &str) = (1, 1.0, \"Hello\");\n",
    "println!(\"\\n{}, {}, {}\", a.0, a.1, a.2); \n",
    "println!(\"{}, {:?}, {:?}\", a.0, a.1, a.2); // Debug trait"
   ]
  },
  {
   "cell_type": "markdown",
   "metadata": {},
   "source": [
    "## Data Types Operations"
   ]
  },
  {
   "cell_type": "code",
   "execution_count": 10,
   "metadata": {},
   "outputs": [
    {
     "name": "stdout",
     "output_type": "stream",
     "text": [
      "Value(a): [3, 3, 3, 3, 3]\n",
      "Value(b): [1, 2, 3, 3, 3, 3, 3, 3]\n"
     ]
    }
   ],
   "source": [
    "let a = [3; 5];\n",
    "println!(\"Value(a): {:?}\", a);\n",
    "\n",
    "let b: Vec<i32> = [1, 2, 3].iter().chain(&a).map(|&x| x).collect();\n",
    "println!(\"Value(b): {:?}\", b);"
   ]
  },
  {
   "cell_type": "code",
   "execution_count": 12,
   "metadata": {},
   "outputs": [
    {
     "name": "stdout",
     "output_type": "stream",
     "text": [
      "Value(a): 61864918\n",
      "Value(a): 255\n",
      "Value(a): 63\n",
      "Value(a): 240\n",
      "Value(a): 65\n"
     ]
    }
   ],
   "source": [
    "let a = 61_864_918;\n",
    "println!(\"Value(a): {}\", a);\n",
    "let a = 0xff;\n",
    "println!(\"Value(a): {}\", a);\n",
    "let a = 0o77;\n",
    "println!(\"Value(a): {}\", a);\n",
    "let a = 0b1111_0000;\n",
    "println!(\"Value(a): {}\", a);\n",
    "let a = b'A';\n",
    "println!(\"Value(a): {}\", a);"
   ]
  },
  {
   "cell_type": "code",
   "execution_count": 2,
   "metadata": {},
   "outputs": [
    {
     "name": "stdout",
     "output_type": "stream",
     "text": [
      "Value(guess): 42\n"
     ]
    }
   ],
   "source": [
    "let guess = \"42\".parse().expect(\"Not a number!\");\n",
    "println!(\"Value(guess): {}\", guess);"
   ]
  },
  {
   "cell_type": "code",
   "execution_count": 3,
   "metadata": {},
   "outputs": [],
   "source": [
    "// addition\n",
    "let sum = 5 + 10;\n",
    "\n",
    "// subtraction\n",
    "let difference = 95.5 - 4.3;\n",
    "\n",
    "// multiplication\n",
    "let product = 4 * 30;\n",
    "\n",
    "// division\n",
    "let quotient = 56.7 / 32.2;\n",
    "\n",
    "// remainder\n",
    "let remainder = 43 % 5;"
   ]
  },
  {
   "cell_type": "code",
   "execution_count": 5,
   "metadata": {},
   "outputs": [
    {
     "name": "stdout",
     "output_type": "stream",
     "text": [
      "Hello World\n"
     ]
    },
    {
     "data": {
      "text/plain": [
       "()"
      ]
     },
     "execution_count": 5,
     "metadata": {},
     "output_type": "execute_result"
    }
   ],
   "source": [
    "fn greet() {\n",
    "    println!(\"Hello World\");\n",
    "} // Returns empty tuple\n",
    "greet()"
   ]
  },
  {
   "cell_type": "code",
   "execution_count": 3,
   "metadata": {},
   "outputs": [
    {
     "data": {
      "text/plain": [
       "true"
      ]
     },
     "execution_count": 3,
     "metadata": {},
     "output_type": "execute_result"
    }
   ],
   "source": [
    "Option::is_some(&Some(15))"
   ]
  },
  {
   "cell_type": "code",
   "execution_count": 10,
   "metadata": {},
   "outputs": [
    {
     "data": {
      "text/plain": [
       "()"
      ]
     },
     "execution_count": 10,
     "metadata": {},
     "output_type": "execute_result"
    },
    {
     "name": "stdout",
     "output_type": "stream",
     "text": [
      "[1, 2, 3, 4]\n"
     ]
    }
   ],
   "source": [
    "{\n",
    "    let a: Vec<u32> = vec![1, 2, 3, 4, 5, 3, 2, 1];\n",
    "    println!(\"{:?}\", a.iter().take_while(|&x| *x != 5 as u32).collect::<Vec<&u32>>())\n",
    "}"
   ]
  },
  {
   "cell_type": "code",
   "execution_count": null,
   "metadata": {},
   "outputs": [],
   "source": [
    "{\n",
    "    #[derive(Debug)]\n",
    "    struct MyStruct {\n",
    "        id: u32,\n",
    "        id_type: char\n",
    "    }\n",
    "\n",
    "    {\n",
    "        let a: Vec<MyStruct> = vec![MyStruct {id: 1, id_type: 'a'}, MyStruct {id: 2, id_type: 'a'}, MyStruct {id: 3, id_type: 'a'}];\n",
    "    //     let a: Vec<MyStruct> = vec![];\n",
    "\n",
    "        let b: Vec<MyStruct> = vec![MyStruct {id: 1, id_type: 'b'}, MyStruct {id: 2, id_type: 'b'}, MyStruct {id: 3, id_type: 'b'}];\n",
    "    //     let b: Vec<MyStruct> = vec![];\n",
    "\n",
    "        let c: Vec<MyStruct> = vec![MyStruct {id: 1, id_type: 'c'}, MyStruct {id: 2, id_type: 'c'}, MyStruct {id: 3, id_type: 'c'}];\n",
    "    //     let c: Vec<MyStruct> = vec![];\n",
    "\n",
    "        let d: Vec<MyStruct> = vec![MyStruct {id: 1, id_type: 'd'}, MyStruct {id: 2, id_type: 'd'}, MyStruct {id: 3, id_type: 'd'}];\n",
    "\n",
    "        let answer: Vec<&MyStruct> = a\n",
    "            .iter()\n",
    "            .chain(&b)\n",
    "            .chain(&c)\n",
    "            .take(0) // 0 here\n",
    "            .chain(&d)\n",
    "            .take(3)\n",
    "            .collect();\n",
    "        println!(\"{:?}\", answer);\n",
    "    }\n",
    "}"
   ]
  },
  {
   "cell_type": "code",
   "execution_count": 12,
   "metadata": {},
   "outputs": [
    {
     "name": "stdout",
     "output_type": "stream",
     "text": [
      "B { id: 1 }\n",
      "A { id: 1 }\n"
     ]
    },
    {
     "data": {
      "text/plain": [
       "()"
      ]
     },
     "execution_count": 12,
     "metadata": {},
     "output_type": "execute_result"
    }
   ],
   "source": [
    "{\n",
    "    #[derive(Debug)]\n",
    "    struct A {\n",
    "        id: u32\n",
    "    }\n",
    "    \n",
    "    #[derive(Debug)]\n",
    "    struct B {\n",
    "        id: u32\n",
    "    }\n",
    "\n",
    "    impl From<&A> for B {\n",
    "        fn from(a:&A) -> Self {\n",
    "            Self {\n",
    "                id: a.id\n",
    "            }\n",
    "        }\n",
    "    }\n",
    "    \n",
    "    let a = A {id: 1};\n",
    "    let b: B = (&a).into();\n",
    "    println!(\"{:?}\", b);\n",
    "    println!(\"{:?}\", a);\n",
    "}"
   ]
  },
  {
   "cell_type": "code",
   "execution_count": null,
   "metadata": {},
   "outputs": [],
   "source": []
  }
 ],
 "metadata": {
  "kernelspec": {
   "display_name": "Rust",
   "language": "rust",
   "name": "rust"
  },
  "language_info": {
   "codemirror_mode": "rust",
   "file_extension": ".rs",
   "mimetype": "text/rust",
   "name": "Rust",
   "pygment_lexer": "rust",
   "version": ""
  }
 },
 "nbformat": 4,
 "nbformat_minor": 4
}
